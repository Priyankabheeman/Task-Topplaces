{
 "cells": [
  {
   "cell_type": "code",
   "execution_count": 175,
   "id": "f4509cf2",
   "metadata": {},
   "outputs": [],
   "source": [
    "import warnings\n",
    "warnings.filterwarnings(\"ignore\")"
   ]
  },
  {
   "cell_type": "code",
   "execution_count": 176,
   "id": "fcaf0e44",
   "metadata": {},
   "outputs": [
    {
     "data": {
      "text/html": [
       "<div>\n",
       "<style scoped>\n",
       "    .dataframe tbody tr th:only-of-type {\n",
       "        vertical-align: middle;\n",
       "    }\n",
       "\n",
       "    .dataframe tbody tr th {\n",
       "        vertical-align: top;\n",
       "    }\n",
       "\n",
       "    .dataframe thead th {\n",
       "        text-align: right;\n",
       "    }\n",
       "</style>\n",
       "<table border=\"1\" class=\"dataframe\">\n",
       "  <thead>\n",
       "    <tr style=\"text-align: right;\">\n",
       "      <th></th>\n",
       "      <th>Unnamed: 0</th>\n",
       "      <th>Zone</th>\n",
       "      <th>State</th>\n",
       "      <th>City</th>\n",
       "      <th>Name</th>\n",
       "      <th>Type</th>\n",
       "      <th>Establishment Year</th>\n",
       "      <th>time needed to visit in hrs</th>\n",
       "      <th>Google review rating</th>\n",
       "      <th>Entrance Fee in INR</th>\n",
       "      <th>Airport with 50km Radius</th>\n",
       "      <th>Weekly Off</th>\n",
       "      <th>Significance</th>\n",
       "      <th>DSLR Allowed</th>\n",
       "      <th>Number of google review in lakhs</th>\n",
       "      <th>Best Time to visit</th>\n",
       "    </tr>\n",
       "  </thead>\n",
       "  <tbody>\n",
       "    <tr>\n",
       "      <th>0</th>\n",
       "      <td>0</td>\n",
       "      <td>Northern</td>\n",
       "      <td>Delhi</td>\n",
       "      <td>Delhi</td>\n",
       "      <td>India Gate</td>\n",
       "      <td>War Memorial</td>\n",
       "      <td>1921</td>\n",
       "      <td>0.5</td>\n",
       "      <td>4.6</td>\n",
       "      <td>0</td>\n",
       "      <td>Yes</td>\n",
       "      <td>NaN</td>\n",
       "      <td>Historical</td>\n",
       "      <td>Yes</td>\n",
       "      <td>2.60</td>\n",
       "      <td>Evening</td>\n",
       "    </tr>\n",
       "    <tr>\n",
       "      <th>1</th>\n",
       "      <td>1</td>\n",
       "      <td>Northern</td>\n",
       "      <td>Delhi</td>\n",
       "      <td>Delhi</td>\n",
       "      <td>Humayun's Tomb</td>\n",
       "      <td>Tomb</td>\n",
       "      <td>1572</td>\n",
       "      <td>2.0</td>\n",
       "      <td>4.5</td>\n",
       "      <td>30</td>\n",
       "      <td>Yes</td>\n",
       "      <td>NaN</td>\n",
       "      <td>Historical</td>\n",
       "      <td>Yes</td>\n",
       "      <td>0.40</td>\n",
       "      <td>Afternoon</td>\n",
       "    </tr>\n",
       "    <tr>\n",
       "      <th>2</th>\n",
       "      <td>2</td>\n",
       "      <td>Northern</td>\n",
       "      <td>Delhi</td>\n",
       "      <td>Delhi</td>\n",
       "      <td>Akshardham Temple</td>\n",
       "      <td>Temple</td>\n",
       "      <td>2005</td>\n",
       "      <td>5.0</td>\n",
       "      <td>4.6</td>\n",
       "      <td>60</td>\n",
       "      <td>Yes</td>\n",
       "      <td>NaN</td>\n",
       "      <td>Religious</td>\n",
       "      <td>No</td>\n",
       "      <td>0.40</td>\n",
       "      <td>Afternoon</td>\n",
       "    </tr>\n",
       "    <tr>\n",
       "      <th>3</th>\n",
       "      <td>3</td>\n",
       "      <td>Northern</td>\n",
       "      <td>Delhi</td>\n",
       "      <td>Delhi</td>\n",
       "      <td>Waste to Wonder Park</td>\n",
       "      <td>Theme Park</td>\n",
       "      <td>2019</td>\n",
       "      <td>2.0</td>\n",
       "      <td>4.1</td>\n",
       "      <td>50</td>\n",
       "      <td>Yes</td>\n",
       "      <td>Monday</td>\n",
       "      <td>Environmental</td>\n",
       "      <td>Yes</td>\n",
       "      <td>0.27</td>\n",
       "      <td>Evening</td>\n",
       "    </tr>\n",
       "    <tr>\n",
       "      <th>4</th>\n",
       "      <td>4</td>\n",
       "      <td>Northern</td>\n",
       "      <td>Delhi</td>\n",
       "      <td>Delhi</td>\n",
       "      <td>Jantar Mantar</td>\n",
       "      <td>Observatory</td>\n",
       "      <td>1724</td>\n",
       "      <td>2.0</td>\n",
       "      <td>4.2</td>\n",
       "      <td>15</td>\n",
       "      <td>Yes</td>\n",
       "      <td>NaN</td>\n",
       "      <td>Scientific</td>\n",
       "      <td>Yes</td>\n",
       "      <td>0.31</td>\n",
       "      <td>Morning</td>\n",
       "    </tr>\n",
       "    <tr>\n",
       "      <th>...</th>\n",
       "      <td>...</td>\n",
       "      <td>...</td>\n",
       "      <td>...</td>\n",
       "      <td>...</td>\n",
       "      <td>...</td>\n",
       "      <td>...</td>\n",
       "      <td>...</td>\n",
       "      <td>...</td>\n",
       "      <td>...</td>\n",
       "      <td>...</td>\n",
       "      <td>...</td>\n",
       "      <td>...</td>\n",
       "      <td>...</td>\n",
       "      <td>...</td>\n",
       "      <td>...</td>\n",
       "      <td>...</td>\n",
       "    </tr>\n",
       "    <tr>\n",
       "      <th>320</th>\n",
       "      <td>320</td>\n",
       "      <td>Western</td>\n",
       "      <td>Gujarat</td>\n",
       "      <td>Gandhinagar</td>\n",
       "      <td>Akshardham</td>\n",
       "      <td>Temple</td>\n",
       "      <td>1992</td>\n",
       "      <td>3.0</td>\n",
       "      <td>4.6</td>\n",
       "      <td>0</td>\n",
       "      <td>Yes</td>\n",
       "      <td>Monday</td>\n",
       "      <td>Religious</td>\n",
       "      <td>No</td>\n",
       "      <td>0.18</td>\n",
       "      <td>All</td>\n",
       "    </tr>\n",
       "    <tr>\n",
       "      <th>321</th>\n",
       "      <td>321</td>\n",
       "      <td>Central</td>\n",
       "      <td>Uttar Pradesh</td>\n",
       "      <td>Agra</td>\n",
       "      <td>Agra Fort</td>\n",
       "      <td>Fort</td>\n",
       "      <td>1565</td>\n",
       "      <td>2.0</td>\n",
       "      <td>4.5</td>\n",
       "      <td>40</td>\n",
       "      <td>Yes</td>\n",
       "      <td>NaN</td>\n",
       "      <td>Historical</td>\n",
       "      <td>Yes</td>\n",
       "      <td>1.30</td>\n",
       "      <td>Afternoon</td>\n",
       "    </tr>\n",
       "    <tr>\n",
       "      <th>322</th>\n",
       "      <td>322</td>\n",
       "      <td>Central</td>\n",
       "      <td>Madhya Pradesh</td>\n",
       "      <td>Bhopal</td>\n",
       "      <td>Madhya Pradesh Tribal Museum</td>\n",
       "      <td>Museum</td>\n",
       "      <td>2013</td>\n",
       "      <td>2.0</td>\n",
       "      <td>4.7</td>\n",
       "      <td>10</td>\n",
       "      <td>Yes</td>\n",
       "      <td>Monday</td>\n",
       "      <td>Cultural</td>\n",
       "      <td>Yes</td>\n",
       "      <td>0.15</td>\n",
       "      <td>All</td>\n",
       "    </tr>\n",
       "    <tr>\n",
       "      <th>323</th>\n",
       "      <td>323</td>\n",
       "      <td>Northern</td>\n",
       "      <td>Rajasthan</td>\n",
       "      <td>Jaipur</td>\n",
       "      <td>City Palace</td>\n",
       "      <td>Palace</td>\n",
       "      <td>1727</td>\n",
       "      <td>2.0</td>\n",
       "      <td>4.4</td>\n",
       "      <td>200</td>\n",
       "      <td>Yes</td>\n",
       "      <td>NaN</td>\n",
       "      <td>Historical</td>\n",
       "      <td>Yes</td>\n",
       "      <td>0.51</td>\n",
       "      <td>Morning</td>\n",
       "    </tr>\n",
       "    <tr>\n",
       "      <th>324</th>\n",
       "      <td>324</td>\n",
       "      <td>Northern</td>\n",
       "      <td>Rajasthan</td>\n",
       "      <td>Jaipur</td>\n",
       "      <td>Albert Hall Museum</td>\n",
       "      <td>Museum</td>\n",
       "      <td>1887</td>\n",
       "      <td>2.0</td>\n",
       "      <td>4.5</td>\n",
       "      <td>200</td>\n",
       "      <td>Yes</td>\n",
       "      <td>NaN</td>\n",
       "      <td>Historical</td>\n",
       "      <td>Yes</td>\n",
       "      <td>0.63</td>\n",
       "      <td>All</td>\n",
       "    </tr>\n",
       "  </tbody>\n",
       "</table>\n",
       "<p>325 rows × 16 columns</p>\n",
       "</div>"
      ],
      "text/plain": [
       "     Unnamed: 0      Zone           State         City  \\\n",
       "0             0  Northern           Delhi        Delhi   \n",
       "1             1  Northern           Delhi        Delhi   \n",
       "2             2  Northern           Delhi        Delhi   \n",
       "3             3  Northern           Delhi        Delhi   \n",
       "4             4  Northern           Delhi        Delhi   \n",
       "..          ...       ...             ...          ...   \n",
       "320         320   Western         Gujarat  Gandhinagar   \n",
       "321         321   Central   Uttar Pradesh         Agra   \n",
       "322         322   Central  Madhya Pradesh       Bhopal   \n",
       "323         323  Northern       Rajasthan       Jaipur   \n",
       "324         324  Northern       Rajasthan       Jaipur   \n",
       "\n",
       "                             Name          Type Establishment Year  \\\n",
       "0                      India Gate  War Memorial               1921   \n",
       "1                  Humayun's Tomb          Tomb               1572   \n",
       "2               Akshardham Temple        Temple               2005   \n",
       "3            Waste to Wonder Park    Theme Park               2019   \n",
       "4                   Jantar Mantar   Observatory               1724   \n",
       "..                            ...           ...                ...   \n",
       "320                    Akshardham        Temple               1992   \n",
       "321                     Agra Fort          Fort               1565   \n",
       "322  Madhya Pradesh Tribal Museum        Museum               2013   \n",
       "323                   City Palace        Palace               1727   \n",
       "324            Albert Hall Museum        Museum               1887   \n",
       "\n",
       "     time needed to visit in hrs  Google review rating  Entrance Fee in INR  \\\n",
       "0                            0.5                   4.6                    0   \n",
       "1                            2.0                   4.5                   30   \n",
       "2                            5.0                   4.6                   60   \n",
       "3                            2.0                   4.1                   50   \n",
       "4                            2.0                   4.2                   15   \n",
       "..                           ...                   ...                  ...   \n",
       "320                          3.0                   4.6                    0   \n",
       "321                          2.0                   4.5                   40   \n",
       "322                          2.0                   4.7                   10   \n",
       "323                          2.0                   4.4                  200   \n",
       "324                          2.0                   4.5                  200   \n",
       "\n",
       "    Airport with 50km Radius Weekly Off   Significance DSLR Allowed  \\\n",
       "0                        Yes        NaN     Historical          Yes   \n",
       "1                        Yes        NaN     Historical          Yes   \n",
       "2                        Yes        NaN      Religious           No   \n",
       "3                        Yes     Monday  Environmental          Yes   \n",
       "4                        Yes        NaN     Scientific          Yes   \n",
       "..                       ...        ...            ...          ...   \n",
       "320                      Yes     Monday      Religious           No   \n",
       "321                      Yes        NaN     Historical          Yes   \n",
       "322                      Yes     Monday       Cultural          Yes   \n",
       "323                      Yes        NaN     Historical          Yes   \n",
       "324                      Yes        NaN     Historical          Yes   \n",
       "\n",
       "     Number of google review in lakhs Best Time to visit  \n",
       "0                                2.60            Evening  \n",
       "1                                0.40          Afternoon  \n",
       "2                                0.40          Afternoon  \n",
       "3                                0.27            Evening  \n",
       "4                                0.31            Morning  \n",
       "..                                ...                ...  \n",
       "320                              0.18                All  \n",
       "321                              1.30          Afternoon  \n",
       "322                              0.15                All  \n",
       "323                              0.51            Morning  \n",
       "324                              0.63                All  \n",
       "\n",
       "[325 rows x 16 columns]"
      ]
     },
     "execution_count": 176,
     "metadata": {},
     "output_type": "execute_result"
    }
   ],
   "source": [
    "import pandas as pd\n",
    "df = pd.read_csv('Top Indian Places to Visit.csv')\n",
    "df"
   ]
  },
  {
   "cell_type": "code",
   "execution_count": 177,
   "id": "adf8d604",
   "metadata": {},
   "outputs": [
    {
     "name": "stdout",
     "output_type": "stream",
     "text": [
      "             Type  Google review rating  Number of google review in lakhs  \\\n",
      "0    War Memorial                   4.6                              2.60   \n",
      "1            Tomb                   4.5                              0.40   \n",
      "2          Temple                   4.6                              0.40   \n",
      "3      Theme Park                   4.1                              0.27   \n",
      "4     Observatory                   4.2                              0.31   \n",
      "..            ...                   ...                               ...   \n",
      "320        Temple                   4.6                              0.18   \n",
      "321          Fort                   4.5                              1.30   \n",
      "322        Museum                   4.7                              0.15   \n",
      "323        Palace                   4.4                              0.51   \n",
      "324        Museum                   4.5                              0.63   \n",
      "\n",
      "     Entrance Fee in INR  \n",
      "0                      0  \n",
      "1                     30  \n",
      "2                     60  \n",
      "3                     50  \n",
      "4                     15  \n",
      "..                   ...  \n",
      "320                    0  \n",
      "321                   40  \n",
      "322                   10  \n",
      "323                  200  \n",
      "324                  200  \n",
      "\n",
      "[325 rows x 4 columns]\n"
     ]
    }
   ],
   "source": [
    "col = ['Type','Google review rating','Number of google review in lakhs','Entrance Fee in INR']\n",
    "df=df[col]\n",
    "print(df)"
   ]
  },
  {
   "cell_type": "code",
   "execution_count": 178,
   "id": "b24511ce",
   "metadata": {},
   "outputs": [
    {
     "name": "stdout",
     "output_type": "stream",
     "text": [
      "                   Type  Google review rating  Number of google review in lakhs  Entrance Fee in INR\n",
      "1                  Tomb                   4.5                            0.4000                   30\n",
      "2                Temple                   4.6                            0.4000                   60\n",
      "3            Theme Park                   4.1                            0.2700                   50\n",
      "4           Observatory                   4.2                            0.3100                   15\n",
      "7                  Fort                   4.5                            1.5000                   35\n",
      "10                 Park                   4.1                            0.2300                   35\n",
      "12               Museum                   4.5                            0.0800                   20\n",
      "13                  Zoo                   4.1                            0.4100                   80\n",
      "14             Monument                   4.5                            1.3700                   35\n",
      "15              Science                   4.4                            0.2300                   70\n",
      "18               Museum                   4.6                            0.3400                  500\n",
      "19        National Park                   4.3                            0.6000                   50\n",
      "24       Amusement Park                   4.3                            0.2700                 1149\n",
      "25             Monument                   4.3                            0.3500                  550\n",
      "26       Amusement Park                   1.4                            0.9500                 1149\n",
      "27               Palace                   4.2                            0.9000                  500\n",
      "28     Botanical Garden                   4.4                            1.5000                   20\n",
      "32             Landmark                   4.5                            2.1000                   25\n",
      "33                 Fort                   4.4                            1.2000                   30\n",
      "35          Film Studio                   4.4                            0.4500                 1150\n",
      "36               Museum                   4.4                            0.6700                   20\n",
      "37                Tombs                   4.4                            0.2000                   25\n",
      "39               Palace                   4.4                            0.4500                   80\n",
      "40                  Zoo                   4.2                            0.8600                   50\n",
      "41                 Park                   4.1                            0.7300                   20\n",
      "42               Museum                   4.6                            0.7300                   30\n",
      "44               Museum                   4.6                            0.1800                   50\n",
      "47       Cricket Ground                   4.1                            0.1000                 2500\n",
      "48                  Zoo                   4.3                            0.6600                   25\n",
      "49              Science                   4.4                            0.8800                   60\n",
      "55            Waterfall                   4.6                            0.3000                  500\n",
      "65       Bird Sanctuary                   3.9                            0.0300                   10\n",
      "68        National Park                   4.5                            0.0800                 3500\n",
      "70               Palace                   4.4                            0.1700                  200\n",
      "72             Cultural                   4.9                            0.1000                 7500\n",
      "73             Monument                   4.6                            0.6700                  350\n",
      "77                 Lake                   4.5                            0.3000                   10\n",
      "78              Science                   4.4                            0.1100                  500\n",
      "79               Palace                   4.4                            1.3000                   50\n",
      "80               Palace                   4.4                            0.5100                  300\n",
      "81                 Fort                   4.4                            0.5600                   50\n",
      "82   Wildlife Sanctuary                   4.6                            0.0900                  500\n",
      "85                 Fort                   4.6                            0.6400                  100\n",
      "86                 Fort                   4.6                            1.9000                   40\n",
      "88                 Fort                   4.5                            0.3200                   50\n",
      "89                 Fort                   4.6                            1.5000                  100\n",
      "90                 Fort                   4.5                            0.3000                   35\n",
      "95     Sculpture Garden                   4.5                            0.5000                   30\n",
      "101  Wildlife Sanctuary                   4.5                            2.2000                  300\n",
      "102       National Park                   4.3                            0.1400                   50\n",
      "103      Bird Sanctuary                   3.8                            0.1000                   50\n",
      "105                Fort                   4.5                            0.2200                   20\n",
      "107                Fort                   4.4                            0.1100                   20\n",
      "109            Cultural                   4.4                            0.1000                  100\n",
      "110      Amusement Park                   4.6                            0.4100                  750\n",
      "111              Palace                   4.6                            2.5000                   50\n",
      "116                Cave                   4.6                            0.2000                   30\n",
      "117           Waterfall                   4.6                            0.2300                   30\n",
      "120           Mausoleum                   4.5                            0.2500                   20\n",
      "121       National Park                   4.4                            0.1500                  300\n",
      "122              Temple                   4.7                            0.1100                   15\n",
      "123                Fort                   4.4                            1.2000                   50\n",
      "124                Cave                   4.6                            0.2100                   30\n",
      "125            Vineyard                   4.1                            0.1000                  300\n",
      "131                Cave                   4.4                            0.2700                   25\n",
      "133              Valley                   4.4                            0.0500                  300\n",
      "135                Cave                   4.7                            0.4900                   30\n",
      "136             Temples                   4.7                            0.0900                   40\n",
      "137            Monument                   4.7                            0.0100                   30\n",
      "138              Palace                   4.4                            0.6300                   10\n",
      "139                Fort                   4.5                            0.4000                   75\n",
      "142           Waterfall                   4.6                            0.0650                   15\n",
      "143  Wildlife Sanctuary                   4.5                            0.1000                  100\n",
      "144       National Park                   4.5                            0.0500                   50\n",
      "145                Fort                   4.8                            0.1000                   10\n",
      "146                Site                   3.9                            0.0300                   50\n",
      "147    Prehistoric Site                   4.6                            0.0700                   25\n",
      "155       National Park                   4.5                            0.2000                   50\n",
      "158                Fort                   4.4                            0.1000                  150\n",
      "161     Adventure Sport                   4.8                            0.0100                 2500\n",
      "167          Ski Resort                   3.8                            0.1000                 1500\n",
      "171                Cave                   4.5                            0.0100                   25\n",
      "172           Waterfall                   4.2                            0.5500                   15\n",
      "175  Wildlife Sanctuary                   4.3                            0.0100                  150\n",
      "176             Orchard                   4.0                            0.0250                   50\n",
      "177       National Park                   4.4                            0.3000                  100\n",
      "180       National Park                   4.7                            0.0350                  150\n",
      "181           Mausoleum                   4.6                            2.2500                   50\n",
      "183            Monument                   4.4                            0.4500                   50\n",
      "188                Fort                   4.4                            0.2500                   15\n",
      "189            Monument                   4.6                            0.0650                    5\n",
      "190            Monument                   4.4                            0.0700                   40\n",
      "191      Bird Sanctuary                   4.3                            0.0350                   30\n",
      "192                Fort                   4.1                            0.0165                   20\n",
      "194                 Zoo                   4.2                            0.2100                  150\n",
      "196                Lake                   4.9                            0.1500                   20\n",
      "197              Valley                   4.6                            0.1100                  100\n",
      "201           Monastery                   4.7                            0.0500                   20\n",
      "204           Monastery                   4.7                            0.0150                   20\n",
      "205       National Park                   4.3                            0.0100                  100\n",
      "206       National Park                   4.4                            0.0200                   20\n",
      "210           Monastery                   4.7                            0.0500                   30\n",
      "216  Wildlife Sanctuary                   4.4                            0.0350                  250\n",
      "217       National Park                   4.4                            0.0650                   60\n",
      "219              Palace                   4.5                            0.1800                   10\n",
      "222       National Park                   4.4                            0.0700                  100\n",
      "223              Palace                   4.5                            0.0900                   20\n",
      "226              Temple                   4.7                            0.8300                   40\n",
      "239            Memorial                   4.6                            0.4700                   20\n",
      "240                Lake                   4.1                            0.6100                   10\n",
      "244              Temple                   4.6                            0.0900                   40\n",
      "253                Cave                   4.4                            0.1100                   65\n",
      "255      Bird Sanctuary                   4.4                            0.7000                   10\n",
      "260              Museum                   4.6                            0.4900                   40\n",
      "261                Cave                   4.5                            0.3100                   60\n",
      "263                 Zoo                   4.1                            0.2500                   20\n",
      "264            Aquarium                   3.8                            0.0300                   20\n",
      "265              Museum                   4.3                            0.0650                   10\n",
      "266                Hill                   4.3                            0.1500                   20\n",
      "267           Monastery                   4.6                            0.0150                   20\n",
      "268   Religious Complex                   4.7                            0.1200                   50\n",
      "269           Monastery                   4.6                            0.0350                   10\n",
      "270                Park                   4.8                            0.1000                   50\n",
      "274       National Park                   4.5                            0.0680                  650\n",
      "278       National Park                   4.6                            0.1900                  500\n",
      "280  Wildlife Sanctuary                   4.4                            0.0370                  500\n",
      "282              Palace                   4.5                            0.0350                   10\n",
      "284       Rock Carvings                   4.5                            0.0250                   20\n",
      "289               Beach                   4.5                            0.0150                  200\n",
      "290            Landmark                   4.7                            0.1200                   30\n",
      "293     Natural Feature                   4.4                            0.0150                  250\n",
      "299                 Zoo                   4.3                            0.5000                   30\n",
      "301                Park                   4.4                            0.3100                   10\n",
      "302       Entertainment                   4.4                            0.3000                 1100\n",
      "309      Amusement Park                   4.5                            0.9500                  890\n",
      "310                 Zoo                   4.4                            0.8100                   50\n",
      "315          Race Track                   4.6                            7.4000                 1500\n",
      "318              Museum                   4.4                            0.2400                   50\n",
      "321                Fort                   4.5                            1.3000                   40\n",
      "322              Museum                   4.7                            0.1500                   10\n",
      "323              Palace                   4.4                            0.5100                  200\n",
      "324              Museum                   4.5                            0.6300                  200\n"
     ]
    }
   ],
   "source": [
    "df1=df[df['Entrance Fee in INR']!=0]\n",
    "print(df1.to_string())"
   ]
  },
  {
   "cell_type": "code",
   "execution_count": 180,
   "id": "37311248",
   "metadata": {},
   "outputs": [
    {
     "name": "stdout",
     "output_type": "stream",
     "text": [
      "     Google review rating  Number of google review in lakhs  \\\n",
      "1                     4.5                              0.40   \n",
      "2                     4.6                              0.40   \n",
      "3                     4.1                              0.27   \n",
      "4                     4.2                              0.31   \n",
      "7                     4.5                              1.50   \n",
      "..                    ...                               ...   \n",
      "318                   4.4                              0.24   \n",
      "321                   4.5                              1.30   \n",
      "322                   4.7                              0.15   \n",
      "323                   4.4                              0.51   \n",
      "324                   4.5                              0.63   \n",
      "\n",
      "     Entrance Fee in INR  Type_Adventure Sport  Type_Amusement Park  \\\n",
      "1                     30                     0                    0   \n",
      "2                     60                     0                    0   \n",
      "3                     50                     0                    0   \n",
      "4                     15                     0                    0   \n",
      "7                     35                     0                    0   \n",
      "..                   ...                   ...                  ...   \n",
      "318                   50                     0                    0   \n",
      "321                   40                     0                    0   \n",
      "322                   10                     0                    0   \n",
      "323                  200                     0                    0   \n",
      "324                  200                     0                    0   \n",
      "\n",
      "     Type_Aquarium  Type_Beach  Type_Bird Sanctuary  Type_Botanical Garden  \\\n",
      "1                0           0                    0                      0   \n",
      "2                0           0                    0                      0   \n",
      "3                0           0                    0                      0   \n",
      "4                0           0                    0                      0   \n",
      "7                0           0                    0                      0   \n",
      "..             ...         ...                  ...                    ...   \n",
      "318              0           0                    0                      0   \n",
      "321              0           0                    0                      0   \n",
      "322              0           0                    0                      0   \n",
      "323              0           0                    0                      0   \n",
      "324              0           0                    0                      0   \n",
      "\n",
      "     Type_Cave  ...  Type_Temple  Type_Temples  Type_Theme Park  Type_Tomb  \\\n",
      "1            0  ...            0             0                0          1   \n",
      "2            0  ...            1             0                0          0   \n",
      "3            0  ...            0             0                1          0   \n",
      "4            0  ...            0             0                0          0   \n",
      "7            0  ...            0             0                0          0   \n",
      "..         ...  ...          ...           ...              ...        ...   \n",
      "318          0  ...            0             0                0          0   \n",
      "321          0  ...            0             0                0          0   \n",
      "322          0  ...            0             0                0          0   \n",
      "323          0  ...            0             0                0          0   \n",
      "324          0  ...            0             0                0          0   \n",
      "\n",
      "     Type_Tombs  Type_Valley  Type_Vineyard  Type_Waterfall  \\\n",
      "1             0            0              0               0   \n",
      "2             0            0              0               0   \n",
      "3             0            0              0               0   \n",
      "4             0            0              0               0   \n",
      "7             0            0              0               0   \n",
      "..          ...          ...            ...             ...   \n",
      "318           0            0              0               0   \n",
      "321           0            0              0               0   \n",
      "322           0            0              0               0   \n",
      "323           0            0              0               0   \n",
      "324           0            0              0               0   \n",
      "\n",
      "     Type_Wildlife Sanctuary  Type_Zoo  \n",
      "1                          0         0  \n",
      "2                          0         0  \n",
      "3                          0         0  \n",
      "4                          0         0  \n",
      "7                          0         0  \n",
      "..                       ...       ...  \n",
      "318                        0         0  \n",
      "321                        0         0  \n",
      "322                        0         0  \n",
      "323                        0         0  \n",
      "324                        0         0  \n",
      "\n",
      "[142 rows x 47 columns]\n"
     ]
    }
   ],
   "source": [
    "df1 = pd.get_dummies(df1,dtype=int)\n",
    "print(df1)"
   ]
  },
  {
   "cell_type": "code",
   "execution_count": 182,
   "id": "a28ad3a0",
   "metadata": {},
   "outputs": [],
   "source": [
    "X = df1.drop(columns=['Entrance Fee in INR'])\n",
    "Y = df1['Entrance Fee in INR']"
   ]
  },
  {
   "cell_type": "code",
   "execution_count": 183,
   "id": "1002e375",
   "metadata": {},
   "outputs": [],
   "source": [
    "from sklearn.model_selection import train_test_split\n",
    "X_train,X_test,Y_train,Y_test = train_test_split(X,Y,test_size=0.3)"
   ]
  },
  {
   "cell_type": "code",
   "execution_count": 184,
   "id": "aed8d404",
   "metadata": {},
   "outputs": [],
   "source": [
    "from sklearn.linear_model import LinearRegression"
   ]
  },
  {
   "cell_type": "code",
   "execution_count": 185,
   "id": "e2330fbc",
   "metadata": {},
   "outputs": [
    {
     "data": {
      "text/html": [
       "<style>#sk-container-id-29 {color: black;}#sk-container-id-29 pre{padding: 0;}#sk-container-id-29 div.sk-toggleable {background-color: white;}#sk-container-id-29 label.sk-toggleable__label {cursor: pointer;display: block;width: 100%;margin-bottom: 0;padding: 0.3em;box-sizing: border-box;text-align: center;}#sk-container-id-29 label.sk-toggleable__label-arrow:before {content: \"▸\";float: left;margin-right: 0.25em;color: #696969;}#sk-container-id-29 label.sk-toggleable__label-arrow:hover:before {color: black;}#sk-container-id-29 div.sk-estimator:hover label.sk-toggleable__label-arrow:before {color: black;}#sk-container-id-29 div.sk-toggleable__content {max-height: 0;max-width: 0;overflow: hidden;text-align: left;background-color: #f0f8ff;}#sk-container-id-29 div.sk-toggleable__content pre {margin: 0.2em;color: black;border-radius: 0.25em;background-color: #f0f8ff;}#sk-container-id-29 input.sk-toggleable__control:checked~div.sk-toggleable__content {max-height: 200px;max-width: 100%;overflow: auto;}#sk-container-id-29 input.sk-toggleable__control:checked~label.sk-toggleable__label-arrow:before {content: \"▾\";}#sk-container-id-29 div.sk-estimator input.sk-toggleable__control:checked~label.sk-toggleable__label {background-color: #d4ebff;}#sk-container-id-29 div.sk-label input.sk-toggleable__control:checked~label.sk-toggleable__label {background-color: #d4ebff;}#sk-container-id-29 input.sk-hidden--visually {border: 0;clip: rect(1px 1px 1px 1px);clip: rect(1px, 1px, 1px, 1px);height: 1px;margin: -1px;overflow: hidden;padding: 0;position: absolute;width: 1px;}#sk-container-id-29 div.sk-estimator {font-family: monospace;background-color: #f0f8ff;border: 1px dotted black;border-radius: 0.25em;box-sizing: border-box;margin-bottom: 0.5em;}#sk-container-id-29 div.sk-estimator:hover {background-color: #d4ebff;}#sk-container-id-29 div.sk-parallel-item::after {content: \"\";width: 100%;border-bottom: 1px solid gray;flex-grow: 1;}#sk-container-id-29 div.sk-label:hover label.sk-toggleable__label {background-color: #d4ebff;}#sk-container-id-29 div.sk-serial::before {content: \"\";position: absolute;border-left: 1px solid gray;box-sizing: border-box;top: 0;bottom: 0;left: 50%;z-index: 0;}#sk-container-id-29 div.sk-serial {display: flex;flex-direction: column;align-items: center;background-color: white;padding-right: 0.2em;padding-left: 0.2em;position: relative;}#sk-container-id-29 div.sk-item {position: relative;z-index: 1;}#sk-container-id-29 div.sk-parallel {display: flex;align-items: stretch;justify-content: center;background-color: white;position: relative;}#sk-container-id-29 div.sk-item::before, #sk-container-id-29 div.sk-parallel-item::before {content: \"\";position: absolute;border-left: 1px solid gray;box-sizing: border-box;top: 0;bottom: 0;left: 50%;z-index: -1;}#sk-container-id-29 div.sk-parallel-item {display: flex;flex-direction: column;z-index: 1;position: relative;background-color: white;}#sk-container-id-29 div.sk-parallel-item:first-child::after {align-self: flex-end;width: 50%;}#sk-container-id-29 div.sk-parallel-item:last-child::after {align-self: flex-start;width: 50%;}#sk-container-id-29 div.sk-parallel-item:only-child::after {width: 0;}#sk-container-id-29 div.sk-dashed-wrapped {border: 1px dashed gray;margin: 0 0.4em 0.5em 0.4em;box-sizing: border-box;padding-bottom: 0.4em;background-color: white;}#sk-container-id-29 div.sk-label label {font-family: monospace;font-weight: bold;display: inline-block;line-height: 1.2em;}#sk-container-id-29 div.sk-label-container {text-align: center;}#sk-container-id-29 div.sk-container {/* jupyter's `normalize.less` sets `[hidden] { display: none; }` but bootstrap.min.css set `[hidden] { display: none !important; }` so we also need the `!important` here to be able to override the default hidden behavior on the sphinx rendered scikit-learn.org. See: https://github.com/scikit-learn/scikit-learn/issues/21755 */display: inline-block !important;position: relative;}#sk-container-id-29 div.sk-text-repr-fallback {display: none;}</style><div id=\"sk-container-id-29\" class=\"sk-top-container\"><div class=\"sk-text-repr-fallback\"><pre>LinearRegression()</pre><b>In a Jupyter environment, please rerun this cell to show the HTML representation or trust the notebook. <br />On GitHub, the HTML representation is unable to render, please try loading this page with nbviewer.org.</b></div><div class=\"sk-container\" hidden><div class=\"sk-item\"><div class=\"sk-estimator sk-toggleable\"><input class=\"sk-toggleable__control sk-hidden--visually\" id=\"sk-estimator-id-29\" type=\"checkbox\" checked><label for=\"sk-estimator-id-29\" class=\"sk-toggleable__label sk-toggleable__label-arrow\">LinearRegression</label><div class=\"sk-toggleable__content\"><pre>LinearRegression()</pre></div></div></div></div></div>"
      ],
      "text/plain": [
       "LinearRegression()"
      ]
     },
     "execution_count": 185,
     "metadata": {},
     "output_type": "execute_result"
    }
   ],
   "source": [
    "reg1=LinearRegression()\n",
    "reg1.fit(X_train,Y_train)"
   ]
  },
  {
   "cell_type": "code",
   "execution_count": 143,
   "id": "673c9929",
   "metadata": {},
   "outputs": [
    {
     "data": {
      "text/plain": [
       "0.864122329247282"
      ]
     },
     "execution_count": 143,
     "metadata": {},
     "output_type": "execute_result"
    }
   ],
   "source": [
    "reg1.score(X_train,Y_train)"
   ]
  },
  {
   "cell_type": "code",
   "execution_count": 144,
   "id": "c80990d1",
   "metadata": {},
   "outputs": [
    {
     "data": {
      "text/plain": [
       "-3.14976920188225e+24"
      ]
     },
     "execution_count": 144,
     "metadata": {},
     "output_type": "execute_result"
    }
   ],
   "source": [
    "reg1.score(X_test,Y_test)"
   ]
  },
  {
   "cell_type": "code",
   "execution_count": 145,
   "id": "72974e5e",
   "metadata": {},
   "outputs": [
    {
     "data": {
      "text/html": [
       "<style>#sk-container-id-25 {color: black;}#sk-container-id-25 pre{padding: 0;}#sk-container-id-25 div.sk-toggleable {background-color: white;}#sk-container-id-25 label.sk-toggleable__label {cursor: pointer;display: block;width: 100%;margin-bottom: 0;padding: 0.3em;box-sizing: border-box;text-align: center;}#sk-container-id-25 label.sk-toggleable__label-arrow:before {content: \"▸\";float: left;margin-right: 0.25em;color: #696969;}#sk-container-id-25 label.sk-toggleable__label-arrow:hover:before {color: black;}#sk-container-id-25 div.sk-estimator:hover label.sk-toggleable__label-arrow:before {color: black;}#sk-container-id-25 div.sk-toggleable__content {max-height: 0;max-width: 0;overflow: hidden;text-align: left;background-color: #f0f8ff;}#sk-container-id-25 div.sk-toggleable__content pre {margin: 0.2em;color: black;border-radius: 0.25em;background-color: #f0f8ff;}#sk-container-id-25 input.sk-toggleable__control:checked~div.sk-toggleable__content {max-height: 200px;max-width: 100%;overflow: auto;}#sk-container-id-25 input.sk-toggleable__control:checked~label.sk-toggleable__label-arrow:before {content: \"▾\";}#sk-container-id-25 div.sk-estimator input.sk-toggleable__control:checked~label.sk-toggleable__label {background-color: #d4ebff;}#sk-container-id-25 div.sk-label input.sk-toggleable__control:checked~label.sk-toggleable__label {background-color: #d4ebff;}#sk-container-id-25 input.sk-hidden--visually {border: 0;clip: rect(1px 1px 1px 1px);clip: rect(1px, 1px, 1px, 1px);height: 1px;margin: -1px;overflow: hidden;padding: 0;position: absolute;width: 1px;}#sk-container-id-25 div.sk-estimator {font-family: monospace;background-color: #f0f8ff;border: 1px dotted black;border-radius: 0.25em;box-sizing: border-box;margin-bottom: 0.5em;}#sk-container-id-25 div.sk-estimator:hover {background-color: #d4ebff;}#sk-container-id-25 div.sk-parallel-item::after {content: \"\";width: 100%;border-bottom: 1px solid gray;flex-grow: 1;}#sk-container-id-25 div.sk-label:hover label.sk-toggleable__label {background-color: #d4ebff;}#sk-container-id-25 div.sk-serial::before {content: \"\";position: absolute;border-left: 1px solid gray;box-sizing: border-box;top: 0;bottom: 0;left: 50%;z-index: 0;}#sk-container-id-25 div.sk-serial {display: flex;flex-direction: column;align-items: center;background-color: white;padding-right: 0.2em;padding-left: 0.2em;position: relative;}#sk-container-id-25 div.sk-item {position: relative;z-index: 1;}#sk-container-id-25 div.sk-parallel {display: flex;align-items: stretch;justify-content: center;background-color: white;position: relative;}#sk-container-id-25 div.sk-item::before, #sk-container-id-25 div.sk-parallel-item::before {content: \"\";position: absolute;border-left: 1px solid gray;box-sizing: border-box;top: 0;bottom: 0;left: 50%;z-index: -1;}#sk-container-id-25 div.sk-parallel-item {display: flex;flex-direction: column;z-index: 1;position: relative;background-color: white;}#sk-container-id-25 div.sk-parallel-item:first-child::after {align-self: flex-end;width: 50%;}#sk-container-id-25 div.sk-parallel-item:last-child::after {align-self: flex-start;width: 50%;}#sk-container-id-25 div.sk-parallel-item:only-child::after {width: 0;}#sk-container-id-25 div.sk-dashed-wrapped {border: 1px dashed gray;margin: 0 0.4em 0.5em 0.4em;box-sizing: border-box;padding-bottom: 0.4em;background-color: white;}#sk-container-id-25 div.sk-label label {font-family: monospace;font-weight: bold;display: inline-block;line-height: 1.2em;}#sk-container-id-25 div.sk-label-container {text-align: center;}#sk-container-id-25 div.sk-container {/* jupyter's `normalize.less` sets `[hidden] { display: none; }` but bootstrap.min.css set `[hidden] { display: none !important; }` so we also need the `!important` here to be able to override the default hidden behavior on the sphinx rendered scikit-learn.org. See: https://github.com/scikit-learn/scikit-learn/issues/21755 */display: inline-block !important;position: relative;}#sk-container-id-25 div.sk-text-repr-fallback {display: none;}</style><div id=\"sk-container-id-25\" class=\"sk-top-container\"><div class=\"sk-text-repr-fallback\"><pre>Lasso(alpha=15, max_iter=100, tol=0.1)</pre><b>In a Jupyter environment, please rerun this cell to show the HTML representation or trust the notebook. <br />On GitHub, the HTML representation is unable to render, please try loading this page with nbviewer.org.</b></div><div class=\"sk-container\" hidden><div class=\"sk-item\"><div class=\"sk-estimator sk-toggleable\"><input class=\"sk-toggleable__control sk-hidden--visually\" id=\"sk-estimator-id-25\" type=\"checkbox\" checked><label for=\"sk-estimator-id-25\" class=\"sk-toggleable__label sk-toggleable__label-arrow\">Lasso</label><div class=\"sk-toggleable__content\"><pre>Lasso(alpha=15, max_iter=100, tol=0.1)</pre></div></div></div></div></div>"
      ],
      "text/plain": [
       "Lasso(alpha=15, max_iter=100, tol=0.1)"
      ]
     },
     "execution_count": 145,
     "metadata": {},
     "output_type": "execute_result"
    }
   ],
   "source": [
    "from sklearn.linear_model import Lasso\n",
    "reg2 = Lasso(alpha=15,max_iter=100,tol=0.1)\n",
    "reg2.fit(X_train,Y_train)"
   ]
  },
  {
   "cell_type": "code",
   "execution_count": 146,
   "id": "ac506a52",
   "metadata": {},
   "outputs": [
    {
     "data": {
      "text/plain": [
       "0.6927978902538992"
      ]
     },
     "execution_count": 146,
     "metadata": {},
     "output_type": "execute_result"
    }
   ],
   "source": [
    "reg2.score(X_train,Y_train)"
   ]
  },
  {
   "cell_type": "code",
   "execution_count": 147,
   "id": "d5aa9389",
   "metadata": {},
   "outputs": [
    {
     "data": {
      "text/plain": [
       "-18.6713636326101"
      ]
     },
     "execution_count": 147,
     "metadata": {},
     "output_type": "execute_result"
    }
   ],
   "source": [
    "reg2.score(X_test,Y_test)"
   ]
  },
  {
   "cell_type": "code",
   "execution_count": 148,
   "id": "a8ae69a7",
   "metadata": {},
   "outputs": [
    {
     "data": {
      "text/html": [
       "<style>#sk-container-id-26 {color: black;}#sk-container-id-26 pre{padding: 0;}#sk-container-id-26 div.sk-toggleable {background-color: white;}#sk-container-id-26 label.sk-toggleable__label {cursor: pointer;display: block;width: 100%;margin-bottom: 0;padding: 0.3em;box-sizing: border-box;text-align: center;}#sk-container-id-26 label.sk-toggleable__label-arrow:before {content: \"▸\";float: left;margin-right: 0.25em;color: #696969;}#sk-container-id-26 label.sk-toggleable__label-arrow:hover:before {color: black;}#sk-container-id-26 div.sk-estimator:hover label.sk-toggleable__label-arrow:before {color: black;}#sk-container-id-26 div.sk-toggleable__content {max-height: 0;max-width: 0;overflow: hidden;text-align: left;background-color: #f0f8ff;}#sk-container-id-26 div.sk-toggleable__content pre {margin: 0.2em;color: black;border-radius: 0.25em;background-color: #f0f8ff;}#sk-container-id-26 input.sk-toggleable__control:checked~div.sk-toggleable__content {max-height: 200px;max-width: 100%;overflow: auto;}#sk-container-id-26 input.sk-toggleable__control:checked~label.sk-toggleable__label-arrow:before {content: \"▾\";}#sk-container-id-26 div.sk-estimator input.sk-toggleable__control:checked~label.sk-toggleable__label {background-color: #d4ebff;}#sk-container-id-26 div.sk-label input.sk-toggleable__control:checked~label.sk-toggleable__label {background-color: #d4ebff;}#sk-container-id-26 input.sk-hidden--visually {border: 0;clip: rect(1px 1px 1px 1px);clip: rect(1px, 1px, 1px, 1px);height: 1px;margin: -1px;overflow: hidden;padding: 0;position: absolute;width: 1px;}#sk-container-id-26 div.sk-estimator {font-family: monospace;background-color: #f0f8ff;border: 1px dotted black;border-radius: 0.25em;box-sizing: border-box;margin-bottom: 0.5em;}#sk-container-id-26 div.sk-estimator:hover {background-color: #d4ebff;}#sk-container-id-26 div.sk-parallel-item::after {content: \"\";width: 100%;border-bottom: 1px solid gray;flex-grow: 1;}#sk-container-id-26 div.sk-label:hover label.sk-toggleable__label {background-color: #d4ebff;}#sk-container-id-26 div.sk-serial::before {content: \"\";position: absolute;border-left: 1px solid gray;box-sizing: border-box;top: 0;bottom: 0;left: 50%;z-index: 0;}#sk-container-id-26 div.sk-serial {display: flex;flex-direction: column;align-items: center;background-color: white;padding-right: 0.2em;padding-left: 0.2em;position: relative;}#sk-container-id-26 div.sk-item {position: relative;z-index: 1;}#sk-container-id-26 div.sk-parallel {display: flex;align-items: stretch;justify-content: center;background-color: white;position: relative;}#sk-container-id-26 div.sk-item::before, #sk-container-id-26 div.sk-parallel-item::before {content: \"\";position: absolute;border-left: 1px solid gray;box-sizing: border-box;top: 0;bottom: 0;left: 50%;z-index: -1;}#sk-container-id-26 div.sk-parallel-item {display: flex;flex-direction: column;z-index: 1;position: relative;background-color: white;}#sk-container-id-26 div.sk-parallel-item:first-child::after {align-self: flex-end;width: 50%;}#sk-container-id-26 div.sk-parallel-item:last-child::after {align-self: flex-start;width: 50%;}#sk-container-id-26 div.sk-parallel-item:only-child::after {width: 0;}#sk-container-id-26 div.sk-dashed-wrapped {border: 1px dashed gray;margin: 0 0.4em 0.5em 0.4em;box-sizing: border-box;padding-bottom: 0.4em;background-color: white;}#sk-container-id-26 div.sk-label label {font-family: monospace;font-weight: bold;display: inline-block;line-height: 1.2em;}#sk-container-id-26 div.sk-label-container {text-align: center;}#sk-container-id-26 div.sk-container {/* jupyter's `normalize.less` sets `[hidden] { display: none; }` but bootstrap.min.css set `[hidden] { display: none !important; }` so we also need the `!important` here to be able to override the default hidden behavior on the sphinx rendered scikit-learn.org. See: https://github.com/scikit-learn/scikit-learn/issues/21755 */display: inline-block !important;position: relative;}#sk-container-id-26 div.sk-text-repr-fallback {display: none;}</style><div id=\"sk-container-id-26\" class=\"sk-top-container\"><div class=\"sk-text-repr-fallback\"><pre>Ridge(alpha=15, max_iter=100, tol=0.1)</pre><b>In a Jupyter environment, please rerun this cell to show the HTML representation or trust the notebook. <br />On GitHub, the HTML representation is unable to render, please try loading this page with nbviewer.org.</b></div><div class=\"sk-container\" hidden><div class=\"sk-item\"><div class=\"sk-estimator sk-toggleable\"><input class=\"sk-toggleable__control sk-hidden--visually\" id=\"sk-estimator-id-26\" type=\"checkbox\" checked><label for=\"sk-estimator-id-26\" class=\"sk-toggleable__label sk-toggleable__label-arrow\">Ridge</label><div class=\"sk-toggleable__content\"><pre>Ridge(alpha=15, max_iter=100, tol=0.1)</pre></div></div></div></div></div>"
      ],
      "text/plain": [
       "Ridge(alpha=15, max_iter=100, tol=0.1)"
      ]
     },
     "execution_count": 148,
     "metadata": {},
     "output_type": "execute_result"
    }
   ],
   "source": [
    "from sklearn.linear_model import Ridge\n",
    "reg3 = Ridge(alpha=15,max_iter=100,tol=0.1)  \n",
    "reg3.fit(X_train,Y_train)  "
   ]
  },
  {
   "cell_type": "code",
   "execution_count": 149,
   "id": "a2ac40ef",
   "metadata": {},
   "outputs": [
    {
     "data": {
      "text/plain": [
       "0.12340833683207275"
      ]
     },
     "execution_count": 149,
     "metadata": {},
     "output_type": "execute_result"
    }
   ],
   "source": [
    "reg3.score(X_train,Y_train)"
   ]
  },
  {
   "cell_type": "code",
   "execution_count": 150,
   "id": "9b074143",
   "metadata": {},
   "outputs": [
    {
     "data": {
      "text/plain": [
       "-0.5850811632339203"
      ]
     },
     "execution_count": 150,
     "metadata": {},
     "output_type": "execute_result"
    }
   ],
   "source": [
    "reg3.score(X_test,Y_test)"
   ]
  }
 ],
 "metadata": {
  "kernelspec": {
   "display_name": "Python 3 (ipykernel)",
   "language": "python",
   "name": "python3"
  },
  "language_info": {
   "codemirror_mode": {
    "name": "ipython",
    "version": 3
   },
   "file_extension": ".py",
   "mimetype": "text/x-python",
   "name": "python",
   "nbconvert_exporter": "python",
   "pygments_lexer": "ipython3",
   "version": "3.11.5"
  }
 },
 "nbformat": 4,
 "nbformat_minor": 5
}
